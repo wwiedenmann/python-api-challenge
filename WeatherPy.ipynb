{
 "cells": [
  {
   "cell_type": "markdown",
   "metadata": {},
   "source": [
    "# WeatherPy\n",
    "----\n",
    "\n",
    "#### Note\n",
    "* Instructions have been included for each segment. You do not have to follow them exactly, but they are included to help you think through the steps."
   ]
  },
  {
   "cell_type": "code",
   "execution_count": 6,
   "metadata": {
    "scrolled": true
   },
   "outputs": [],
   "source": [
    "# Dependencies and Setup\n",
    "import csv \n",
    "import matplotlib.pyplot as plt\n",
    "import pandas as pd\n",
    "import numpy as np\n",
    "import requests \n",
    "import time\n",
    "from pprint import pprint\n",
    "from scipy.stats import linregress\n",
    "\n",
    "# Import API key\n",
    "from api_keys import weather_api_key\n",
    "\n",
    "# Incorporated citipy to determine city based on latitude and longitude\n",
    "from citipy import citipy\n",
    "\n",
    "# Output File (CSV)\n",
    "output_data_file = \"output_data/cities.csv\"\n",
    "\n",
    "# Range of latitudes and longitudes\n",
    "lat_range = (-90, 90)\n",
    "lng_range = (-180, 180)\n",
    "\n",
    "temp_units = \"imperial\"\n",
    "# define url\n",
    "query_url = f\"http://api.openweathermap.org/data/2.5/weather?appid={weather_api_key}&units={temp_units}&q=\"\n",
    "\n",
    "# define count of pass throughs\n",
    "count_one = 0\n",
    "set_one = 1"
   ]
  },
  {
   "cell_type": "markdown",
   "metadata": {},
   "source": [
    "## Generate Cities List"
   ]
  },
  {
   "cell_type": "code",
   "execution_count": 7,
   "metadata": {},
   "outputs": [
    {
     "data": {
      "text/plain": [
       "609"
      ]
     },
     "execution_count": 7,
     "metadata": {},
     "output_type": "execute_result"
    }
   ],
   "source": [
    "# List for holding lat_lngs and cities\n",
    "lat_lngs = []\n",
    "cities = []\n",
    "\n",
    "# Create a set of random lat and lng combinations\n",
    "lats = np.random.uniform(low=-90.000, high=90.000, size=1500)\n",
    "lngs = np.random.uniform(low=-180.000, high=180.000, size=1500)\n",
    "lat_lngs = zip(lats, lngs)\n",
    "\n",
    "# Identify nearest city for each lat, lng combination\n",
    "for lat_lng in lat_lngs:\n",
    "    city = citipy.nearest_city(lat_lng[0], lat_lng[1]).city_name\n",
    "    \n",
    "    # If the city is unique, then add it to a our cities list\n",
    "    if city not in cities:\n",
    "        cities.append(city)\n",
    "\n",
    "# Print the city count to confirm sufficient count\n",
    "len(cities)"
   ]
  },
  {
   "cell_type": "markdown",
   "metadata": {},
   "source": [
    "### Perform API Calls\n",
    "* Perform a weather check on each city using a series of successive API calls.\n",
    "* Include a print log of each city as it'sbeing processed (with the city number and city name).\n"
   ]
  },
  {
   "cell_type": "code",
   "execution_count": 8,
   "metadata": {},
   "outputs": [
    {
     "name": "stdout",
     "output_type": "stream",
     "text": [
      "Processing Record 1 of Set 1 | chapais\n",
      "Processing Record 2 of Set 1 | nelson bay\n",
      "Processing Record 3 of Set 1 | hermanus\n",
      "Processing Record 4 of Set 1 | tsuyama\n",
      "Processing Record 5 of Set 1 | taywarah\n",
      "Processing Record 6 of Set 1 | derzhavinsk\n",
      "Processing Record 7 of Set 1 | vaini\n",
      "Processing Record 8 of Set 1 | esperance\n",
      "Processing Record 9 of Set 1 | beringovskiy\n",
      "Processing Record 10 of Set 1 | bara\n",
      "City not found. Skipping...\n",
      "Processing Record 11 of Set 1 | port elizabeth\n",
      "Processing Record 12 of Set 1 | bandarbeyla\n",
      "City not found. Skipping...\n",
      "Processing Record 13 of Set 1 | ushuaia\n",
      "Processing Record 14 of Set 1 | barstow\n",
      "Processing Record 15 of Set 1 | tilichiki\n",
      "Processing Record 16 of Set 1 | barrow\n",
      "Processing Record 17 of Set 1 | avarua\n",
      "City not found. Skipping...\n",
      "City not found. Skipping...\n",
      "Processing Record 18 of Set 1 | yatou\n",
      "Processing Record 19 of Set 1 | georgetown\n",
      "Processing Record 20 of Set 1 | shihezi\n",
      "Processing Record 21 of Set 1 | east london\n",
      "Processing Record 22 of Set 1 | punta arenas\n",
      "Processing Record 23 of Set 1 | adelanto\n",
      "Processing Record 24 of Set 1 | tezu\n",
      "Processing Record 25 of Set 1 | champerico\n",
      "Processing Record 26 of Set 1 | busselton\n",
      "Processing Record 27 of Set 1 | bud\n",
      "Processing Record 28 of Set 1 | saldanha\n",
      "City not found. Skipping...\n",
      "Processing Record 29 of Set 1 | fortuna\n",
      "Processing Record 30 of Set 1 | triunfo\n",
      "Processing Record 31 of Set 1 | pimenta bueno\n",
      "City not found. Skipping...\n",
      "City not found. Skipping...\n",
      "Processing Record 32 of Set 1 | yellowknife\n",
      "Processing Record 33 of Set 1 | gejiu\n",
      "Processing Record 34 of Set 1 | hobart\n",
      "Processing Record 35 of Set 1 | butaritari\n",
      "Processing Record 36 of Set 1 | ponta do sol\n",
      "City not found. Skipping...\n",
      "Processing Record 37 of Set 1 | beloha\n",
      "Processing Record 38 of Set 1 | cidreira\n",
      "Processing Record 39 of Set 1 | codrington\n",
      "Processing Record 40 of Set 1 | mataura\n",
      "City not found. Skipping...\n",
      "City not found. Skipping...\n",
      "Processing Record 41 of Set 1 | saint-philippe\n",
      "City not found. Skipping...\n",
      "City not found. Skipping...\n",
      "Processing Record 42 of Set 1 | thompson\n",
      "Processing Record 43 of Set 1 | touros\n",
      "Processing Record 44 of Set 1 | clyde river\n",
      "Processing Record 45 of Set 1 | tiksi\n",
      "Processing Record 46 of Set 1 | tuatapere\n",
      "Processing Record 47 of Set 1 | bathsheba\n",
      "Processing Record 48 of Set 1 | bredasdorp\n",
      "Processing Record 49 of Set 1 | west bay\n",
      "Processing Record 1 of Set 2 | hilo\n",
      "Processing Record 2 of Set 2 | mahebourg\n",
      "Processing Record 3 of Set 2 | kudahuvadhoo\n",
      "Processing Record 4 of Set 2 | qaanaaq\n",
      "Processing Record 5 of Set 2 | sao jose da coroa grande\n",
      "Processing Record 6 of Set 2 | nikolskoye\n",
      "Processing Record 7 of Set 2 | nanortalik\n",
      "City not found. Skipping...\n",
      "Processing Record 8 of Set 2 | longyearbyen\n",
      "Processing Record 9 of Set 2 | lompoc\n",
      "Processing Record 10 of Set 2 | sabinas hidalgo\n",
      "Processing Record 11 of Set 2 | lebu\n",
      "City not found. Skipping...\n",
      "Processing Record 12 of Set 2 | torbay\n",
      "Processing Record 13 of Set 2 | tautira\n",
      "Processing Record 14 of Set 2 | atuona\n",
      "Processing Record 15 of Set 2 | grindavik\n",
      "Processing Record 16 of Set 2 | poum\n",
      "Processing Record 17 of Set 2 | high rock\n",
      "Processing Record 18 of Set 2 | kloulklubed\n",
      "Processing Record 19 of Set 2 | akhtanizovskaya\n",
      "Processing Record 20 of Set 2 | puerto ayora\n",
      "Processing Record 21 of Set 2 | aksaray\n",
      "Processing Record 22 of Set 2 | lamu\n",
      "Processing Record 23 of Set 2 | ceres\n",
      "City not found. Skipping...\n",
      "Processing Record 24 of Set 2 | charlton\n",
      "Processing Record 25 of Set 2 | sao filipe\n",
      "Processing Record 26 of Set 2 | hovd\n",
      "Processing Record 27 of Set 2 | albany\n",
      "Processing Record 28 of Set 2 | kulhudhuffushi\n",
      "Processing Record 29 of Set 2 | marshall\n",
      "City not found. Skipping...\n",
      "Processing Record 30 of Set 2 | trairi\n",
      "Processing Record 31 of Set 2 | broome\n",
      "Processing Record 32 of Set 2 | dikson\n",
      "Processing Record 33 of Set 2 | hodasz\n",
      "Processing Record 34 of Set 2 | zhezkazgan\n",
      "Processing Record 35 of Set 2 | ostrovnoy\n",
      "Processing Record 36 of Set 2 | siocon\n",
      "Processing Record 37 of Set 2 | kavieng\n",
      "Processing Record 38 of Set 2 | vanino\n",
      "Processing Record 39 of Set 2 | pevek\n",
      "Processing Record 40 of Set 2 | biak\n",
      "Processing Record 41 of Set 2 | bonthe\n",
      "Processing Record 42 of Set 2 | northam\n",
      "Processing Record 43 of Set 2 | jamestown\n",
      "Processing Record 44 of Set 2 | jining\n",
      "Processing Record 45 of Set 2 | karpathos\n",
      "Processing Record 46 of Set 2 | honningsvag\n",
      "City not found. Skipping...\n",
      "City not found. Skipping...\n",
      "Processing Record 47 of Set 2 | kapaa\n",
      "Processing Record 48 of Set 2 | glyadyanskoye\n",
      "Processing Record 49 of Set 2 | chokurdakh\n",
      "Processing Record 1 of Set 3 | tyukhtet\n",
      "City not found. Skipping...\n",
      "Processing Record 2 of Set 3 | ribeira grande\n",
      "Processing Record 3 of Set 3 | saint-augustin\n",
      "Processing Record 4 of Set 3 | castro\n",
      "Processing Record 5 of Set 3 | rikitea\n",
      "City not found. Skipping...\n",
      "Processing Record 6 of Set 3 | saskylakh\n",
      "Processing Record 7 of Set 3 | sitka\n",
      "Processing Record 8 of Set 3 | hualmay\n",
      "Processing Record 9 of Set 3 | banikoara\n",
      "Processing Record 10 of Set 3 | saint-francois\n",
      "City not found. Skipping...\n",
      "Processing Record 11 of Set 3 | mango\n",
      "Processing Record 12 of Set 3 | lasa\n",
      "Processing Record 13 of Set 3 | klaksvik\n",
      "Processing Record 14 of Set 3 | yumen\n",
      "City not found. Skipping...\n",
      "Processing Record 15 of Set 3 | morros\n",
      "Processing Record 16 of Set 3 | alugan\n",
      "Processing Record 17 of Set 3 | guntur\n",
      "Processing Record 18 of Set 3 | tazovskiy\n",
      "Processing Record 19 of Set 3 | leningradskiy\n",
      "Processing Record 20 of Set 3 | lopukhiv\n",
      "Processing Record 21 of Set 3 | kaitangata\n",
      "Processing Record 22 of Set 3 | siva\n",
      "Processing Record 23 of Set 3 | kenai\n",
      "Processing Record 24 of Set 3 | camacha\n",
      "Processing Record 25 of Set 3 | sao joao da barra\n",
      "Processing Record 26 of Set 3 | guerrero negro\n",
      "Processing Record 27 of Set 3 | ketchikan\n",
      "Processing Record 28 of Set 3 | valparaiso\n",
      "Processing Record 29 of Set 3 | new norfolk\n",
      "Processing Record 30 of Set 3 | kodiak\n",
      "Processing Record 31 of Set 3 | bluff\n",
      "Processing Record 32 of Set 3 | arraial do cabo\n",
      "Processing Record 33 of Set 3 | carnarvon\n",
      "Processing Record 34 of Set 3 | tasiilaq\n",
      "Processing Record 35 of Set 3 | cam ranh\n",
      "City not found. Skipping...\n",
      "Processing Record 36 of Set 3 | cape town\n",
      "Processing Record 37 of Set 3 | chuy\n",
      "City not found. Skipping...\n",
      "Processing Record 38 of Set 3 | nome\n",
      "Processing Record 39 of Set 3 | kalianget\n",
      "Processing Record 40 of Set 3 | belmonte\n",
      "Processing Record 41 of Set 3 | victoria\n",
      "Processing Record 42 of Set 3 | cabo san lucas\n",
      "Processing Record 43 of Set 3 | san patricio\n",
      "Processing Record 44 of Set 3 | san cristobal\n",
      "Processing Record 45 of Set 3 | fort saint john\n",
      "Processing Record 46 of Set 3 | koltubanovskiy\n",
      "Processing Record 47 of Set 3 | bambous virieux\n",
      "Processing Record 48 of Set 3 | winnemucca\n",
      "Processing Record 49 of Set 3 | port alfred\n",
      "Processing Record 1 of Set 4 | sibolga\n",
      "Processing Record 2 of Set 4 | sunyani\n",
      "Processing Record 3 of Set 4 | shu\n",
      "City not found. Skipping...\n",
      "Processing Record 4 of Set 4 | kirkwall\n",
      "Processing Record 5 of Set 4 | boguchany\n",
      "Processing Record 6 of Set 4 | norman wells\n",
      "Processing Record 7 of Set 4 | necochea\n",
      "Processing Record 8 of Set 4 | ancud\n",
      "City not found. Skipping...\n",
      "Processing Record 9 of Set 4 | bajo baudo\n",
      "Processing Record 10 of Set 4 | sulangan\n",
      "Processing Record 11 of Set 4 | san javier\n",
      "Processing Record 12 of Set 4 | lakes entrance\n",
      "Processing Record 13 of Set 4 | naze\n",
      "Processing Record 14 of Set 4 | manacor\n",
      "Processing Record 15 of Set 4 | salalah\n",
      "Processing Record 16 of Set 4 | jumla\n",
      "Processing Record 17 of Set 4 | padang\n",
      "City not found. Skipping...\n",
      "Processing Record 18 of Set 4 | maldonado\n",
      "Processing Record 19 of Set 4 | airai\n",
      "Processing Record 20 of Set 4 | tuktoyaktuk\n",
      "Processing Record 21 of Set 4 | sambava\n",
      "Processing Record 22 of Set 4 | vanimo\n",
      "Processing Record 23 of Set 4 | horta\n",
      "City not found. Skipping...\n",
      "Processing Record 24 of Set 4 | rio gallegos\n",
      "Processing Record 25 of Set 4 | markova\n",
      "Processing Record 26 of Set 4 | marsa matruh\n",
      "Processing Record 27 of Set 4 | poronaysk\n",
      "Processing Record 28 of Set 4 | soe\n",
      "Processing Record 29 of Set 4 | acajutla\n",
      "Processing Record 30 of Set 4 | mar del plata\n",
      "Processing Record 31 of Set 4 | dutse\n",
      "Processing Record 32 of Set 4 | carman\n",
      "Processing Record 33 of Set 4 | plock\n"
     ]
    },
    {
     "name": "stdout",
     "output_type": "stream",
     "text": [
      "Processing Record 34 of Set 4 | upernavik\n",
      "Processing Record 35 of Set 4 | dumas\n",
      "Processing Record 36 of Set 4 | douentza\n",
      "Processing Record 37 of Set 4 | half moon bay\n",
      "Processing Record 38 of Set 4 | dombarovskiy\n",
      "Processing Record 39 of Set 4 | myanaung\n",
      "Processing Record 40 of Set 4 | mitsamiouli\n",
      "Processing Record 41 of Set 4 | hay river\n",
      "Processing Record 42 of Set 4 | andilamena\n",
      "City not found. Skipping...\n",
      "Processing Record 43 of Set 4 | olinda\n",
      "Processing Record 44 of Set 4 | peniche\n",
      "Processing Record 45 of Set 4 | central point\n",
      "Processing Record 46 of Set 4 | santo domingo\n",
      "Processing Record 47 of Set 4 | berlevag\n",
      "Processing Record 48 of Set 4 | kintampo\n",
      "City not found. Skipping...\n",
      "Processing Record 49 of Set 4 | along\n",
      "Processing Record 1 of Set 5 | xichang\n",
      "Processing Record 2 of Set 5 | tigil\n",
      "Processing Record 3 of Set 5 | swan river\n",
      "Processing Record 4 of Set 5 | capaci\n",
      "Processing Record 5 of Set 5 | lander\n",
      "Processing Record 6 of Set 5 | port blair\n",
      "Processing Record 7 of Set 5 | homer\n",
      "Processing Record 8 of Set 5 | zaozerne\n",
      "Processing Record 9 of Set 5 | sept-iles\n",
      "City not found. Skipping...\n",
      "Processing Record 10 of Set 5 | gayny\n",
      "Processing Record 11 of Set 5 | provideniya\n",
      "Processing Record 12 of Set 5 | faanui\n",
      "Processing Record 13 of Set 5 | mys shmidta\n",
      "Processing Record 14 of Set 5 | alta floresta\n",
      "Processing Record 15 of Set 5 | kruisfontein\n",
      "Processing Record 16 of Set 5 | bay-khaak\n",
      "Processing Record 17 of Set 5 | huarmey\n",
      "Processing Record 18 of Set 5 | pisco\n",
      "Processing Record 19 of Set 5 | adjumani\n",
      "Processing Record 20 of Set 5 | mbarara\n",
      "Processing Record 21 of Set 5 | kieta\n",
      "City not found. Skipping...\n",
      "Processing Record 22 of Set 5 | lavrentiya\n",
      "Processing Record 23 of Set 5 | saint-pierre\n",
      "City not found. Skipping...\n",
      "Processing Record 24 of Set 5 | salvador\n",
      "Processing Record 25 of Set 5 | ahipara\n",
      "Processing Record 26 of Set 5 | zinder\n",
      "Processing Record 27 of Set 5 | hithadhoo\n",
      "Processing Record 28 of Set 5 | gernsheim\n",
      "Processing Record 29 of Set 5 | tokmak\n",
      "Processing Record 30 of Set 5 | shache\n",
      "City not found. Skipping...\n",
      "Processing Record 31 of Set 5 | praia da vitoria\n",
      "Processing Record 32 of Set 5 | geraldton\n",
      "Processing Record 33 of Set 5 | pangnirtung\n",
      "Processing Record 34 of Set 5 | husavik\n",
      "Processing Record 35 of Set 5 | jiancheng\n",
      "Processing Record 36 of Set 5 | severo-kurilsk\n",
      "City not found. Skipping...\n",
      "Processing Record 37 of Set 5 | novo aripuana\n",
      "City not found. Skipping...\n",
      "Processing Record 38 of Set 5 | nabire\n",
      "Processing Record 39 of Set 5 | antofagasta\n",
      "Processing Record 40 of Set 5 | sorong\n",
      "City not found. Skipping...\n",
      "City not found. Skipping...\n",
      "Processing Record 41 of Set 5 | pauini\n",
      "Processing Record 42 of Set 5 | maine-soroa\n",
      "Processing Record 43 of Set 5 | westport\n",
      "Processing Record 44 of Set 5 | fare\n",
      "Processing Record 45 of Set 5 | reconquista\n",
      "Processing Record 46 of Set 5 | constitucion\n",
      "Processing Record 47 of Set 5 | oranjemund\n",
      "City not found. Skipping...\n",
      "Processing Record 48 of Set 5 | auki\n",
      "Processing Record 49 of Set 5 | iqaluit\n",
      "Processing Record 1 of Set 6 | canberra\n",
      "Processing Record 2 of Set 6 | buala\n",
      "Processing Record 3 of Set 6 | jutai\n",
      "Processing Record 4 of Set 6 | gat\n",
      "Processing Record 5 of Set 6 | yulara\n",
      "Processing Record 6 of Set 6 | souillac\n",
      "Processing Record 7 of Set 6 | xudat\n",
      "Processing Record 8 of Set 6 | dudinka\n",
      "Processing Record 9 of Set 6 | punta de bombon\n",
      "Processing Record 10 of Set 6 | fort nelson\n",
      "Processing Record 11 of Set 6 | bolobo\n",
      "Processing Record 12 of Set 6 | ihiala\n",
      "Processing Record 13 of Set 6 | tanout\n",
      "Processing Record 14 of Set 6 | sunnyside\n",
      "Processing Record 15 of Set 6 | bhag\n",
      "Processing Record 16 of Set 6 | katsuura\n",
      "Processing Record 17 of Set 6 | sinnamary\n",
      "Processing Record 18 of Set 6 | virginia beach\n",
      "Processing Record 19 of Set 6 | lagoa\n",
      "Processing Record 20 of Set 6 | pacific grove\n",
      "City not found. Skipping...\n",
      "Processing Record 21 of Set 6 | las vegas\n",
      "Processing Record 22 of Set 6 | kaeo\n",
      "Processing Record 23 of Set 6 | bologoye\n",
      "Processing Record 24 of Set 6 | coueron\n",
      "Processing Record 25 of Set 6 | terrak\n",
      "Processing Record 26 of Set 6 | aksarka\n",
      "Processing Record 27 of Set 6 | labuan\n",
      "Processing Record 28 of Set 6 | lovozero\n",
      "Processing Record 29 of Set 6 | srivardhan\n",
      "Processing Record 30 of Set 6 | lulea\n",
      "City not found. Skipping...\n",
      "Processing Record 31 of Set 6 | ust-ishim\n",
      "Processing Record 32 of Set 6 | tabuk\n",
      "Processing Record 33 of Set 6 | north platte\n",
      "Processing Record 34 of Set 6 | imeni poliny osipenko\n",
      "Processing Record 35 of Set 6 | ilheus\n",
      "Processing Record 36 of Set 6 | lookan\n",
      "Processing Record 37 of Set 6 | coihaique\n",
      "Processing Record 38 of Set 6 | dingle\n",
      "Processing Record 39 of Set 6 | cap malheureux\n",
      "Processing Record 40 of Set 6 | barkly west\n",
      "Processing Record 41 of Set 6 | ust-koksa\n",
      "Processing Record 42 of Set 6 | kahului\n",
      "Processing Record 43 of Set 6 | lorengau\n",
      "Processing Record 44 of Set 6 | ilulissat\n",
      "Processing Record 45 of Set 6 | port lincoln\n",
      "Processing Record 46 of Set 6 | skelleftea\n",
      "Processing Record 47 of Set 6 | suntar\n",
      "Processing Record 48 of Set 6 | kansanshi\n",
      "Processing Record 49 of Set 6 | omsukchan\n",
      "Processing Record 1 of Set 7 | brigantine\n",
      "Processing Record 2 of Set 7 | khatanga\n",
      "Processing Record 3 of Set 7 | port hardy\n",
      "Processing Record 4 of Set 7 | lewisville\n",
      "City not found. Skipping...\n",
      "Processing Record 5 of Set 7 | tiruchchendur\n",
      "Processing Record 6 of Set 7 | marsh harbour\n",
      "City not found. Skipping...\n",
      "Processing Record 7 of Set 7 | ispas\n",
      "Processing Record 8 of Set 7 | vila franca do campo\n",
      "Processing Record 9 of Set 7 | mezen\n",
      "Processing Record 10 of Set 7 | pyaozerskiy\n",
      "Processing Record 11 of Set 7 | perry hall\n",
      "Processing Record 12 of Set 7 | grand forks\n",
      "Processing Record 13 of Set 7 | monte patria\n",
      "Processing Record 14 of Set 7 | kiama\n",
      "Processing Record 15 of Set 7 | krasnoufimsk\n",
      "Processing Record 16 of Set 7 | lopatino\n",
      "Processing Record 17 of Set 7 | winona\n",
      "Processing Record 18 of Set 7 | carutapera\n",
      "Processing Record 19 of Set 7 | sydney\n",
      "Processing Record 20 of Set 7 | san jose\n",
      "Processing Record 21 of Set 7 | rocha\n",
      "Processing Record 22 of Set 7 | paita\n",
      "Processing Record 23 of Set 7 | sabla\n",
      "Processing Record 24 of Set 7 | puerto escondido\n",
      "Processing Record 25 of Set 7 | hami\n",
      "Processing Record 26 of Set 7 | progreso\n",
      "City not found. Skipping...\n",
      "Processing Record 27 of Set 7 | manta\n",
      "City not found. Skipping...\n",
      "Processing Record 28 of Set 7 | namatanai\n",
      "Processing Record 29 of Set 7 | cherskiy\n",
      "Processing Record 30 of Set 7 | camopi\n",
      "Processing Record 31 of Set 7 | lokosovo\n",
      "Processing Record 32 of Set 7 | sisimiut\n",
      "Processing Record 33 of Set 7 | vogan\n",
      "Processing Record 34 of Set 7 | bethel\n",
      "Processing Record 35 of Set 7 | point pedro\n",
      "Processing Record 36 of Set 7 | nouadhibou\n",
      "City not found. Skipping...\n",
      "Processing Record 37 of Set 7 | polkowice\n",
      "Processing Record 38 of Set 7 | port augusta\n",
      "Processing Record 39 of Set 7 | klichka\n",
      "Processing Record 40 of Set 7 | ivybridge\n",
      "Processing Record 41 of Set 7 | mehran\n",
      "Processing Record 42 of Set 7 | coquimbo\n",
      "Processing Record 43 of Set 7 | hamilton\n",
      "Processing Record 44 of Set 7 | shakawe\n",
      "Processing Record 45 of Set 7 | wilmington\n",
      "Processing Record 46 of Set 7 | mafeteng\n",
      "Processing Record 47 of Set 7 | luau\n",
      "City not found. Skipping...\n",
      "City not found. Skipping...\n",
      "Processing Record 48 of Set 7 | hobyo\n",
      "Processing Record 49 of Set 7 | trinidad\n",
      "Processing Record 1 of Set 8 | porto santo\n",
      "Processing Record 2 of Set 8 | dunedin\n",
      "Processing Record 3 of Set 8 | wewak\n",
      "City not found. Skipping...\n",
      "Processing Record 4 of Set 8 | at-bashi\n",
      "Processing Record 5 of Set 8 | saint-donat-de-montcalm\n",
      "Processing Record 6 of Set 8 | uige\n",
      "Processing Record 7 of Set 8 | arkhipo-osipovka\n",
      "Processing Record 8 of Set 8 | magaria\n",
      "Processing Record 9 of Set 8 | luganville\n",
      "Processing Record 10 of Set 8 | chiplun\n",
      "Processing Record 11 of Set 8 | necocli\n",
      "Processing Record 12 of Set 8 | seymchan\n",
      "Processing Record 13 of Set 8 | cockburn town\n",
      "City not found. Skipping...\n",
      "Processing Record 14 of Set 8 | beaufort\n",
      "Processing Record 15 of Set 8 | qaqortoq\n",
      "Processing Record 16 of Set 8 | laurel\n",
      "Processing Record 17 of Set 8 | aklavik\n",
      "City not found. Skipping...\n",
      "Processing Record 18 of Set 8 | sibi\n",
      "Processing Record 19 of Set 8 | kansas city\n",
      "Processing Record 20 of Set 8 | richard toll\n"
     ]
    },
    {
     "name": "stdout",
     "output_type": "stream",
     "text": [
      "Processing Record 21 of Set 8 | keflavik\n",
      "Processing Record 22 of Set 8 | antigonish\n",
      "Processing Record 23 of Set 8 | novoagansk\n",
      "Processing Record 24 of Set 8 | sakaiminato\n",
      "Processing Record 25 of Set 8 | flinders\n",
      "Processing Record 26 of Set 8 | varhaug\n",
      "Processing Record 27 of Set 8 | mount gambier\n",
      "Processing Record 28 of Set 8 | akdepe\n",
      "Processing Record 29 of Set 8 | hambantota\n",
      "Processing Record 30 of Set 8 | gizo\n",
      "Processing Record 31 of Set 8 | roma\n",
      "City not found. Skipping...\n",
      "Processing Record 32 of Set 8 | jerecuaro\n",
      "Processing Record 33 of Set 8 | yar-sale\n",
      "Processing Record 34 of Set 8 | lufilufi\n",
      "Processing Record 35 of Set 8 | slonim\n",
      "Processing Record 36 of Set 8 | tura\n",
      "Processing Record 37 of Set 8 | chicama\n",
      "Processing Record 38 of Set 8 | pangoa\n",
      "Processing Record 39 of Set 8 | payakumbuh\n",
      "Processing Record 40 of Set 8 | basco\n",
      "Processing Record 41 of Set 8 | esmeraldas\n",
      "Processing Record 42 of Set 8 | yevlax\n",
      "City not found. Skipping...\n",
      "Processing Record 43 of Set 8 | omboue\n",
      "Processing Record 44 of Set 8 | sola\n",
      "City not found. Skipping...\n",
      "Processing Record 45 of Set 8 | port hedland\n",
      "Processing Record 46 of Set 8 | charleston\n",
      "Processing Record 47 of Set 8 | khani\n",
      "Processing Record 48 of Set 8 | eyl\n",
      "Processing Record 49 of Set 8 | horadiz\n",
      "Processing Record 1 of Set 9 | ipoh\n",
      "Processing Record 2 of Set 9 | puerto madero\n",
      "City not found. Skipping...\n",
      "City not found. Skipping...\n",
      "Processing Record 3 of Set 9 | karratha\n",
      "Processing Record 4 of Set 9 | minab\n",
      "Processing Record 5 of Set 9 | roald\n",
      "Processing Record 6 of Set 9 | una\n",
      "Processing Record 7 of Set 9 | miraflores\n",
      "Processing Record 8 of Set 9 | havoysund\n",
      "Processing Record 9 of Set 9 | benguela\n",
      "Processing Record 10 of Set 9 | mount isa\n",
      "Processing Record 11 of Set 9 | fairbanks\n",
      "Processing Record 12 of Set 9 | mitu\n",
      "Processing Record 13 of Set 9 | khorramshahr\n",
      "Processing Record 14 of Set 9 | sayyan\n",
      "Processing Record 15 of Set 9 | harnosand\n",
      "Processing Record 16 of Set 9 | port hawkesbury\n",
      "Processing Record 17 of Set 9 | starosubkhangulovo\n",
      "Processing Record 18 of Set 9 | tungao\n",
      "Processing Record 19 of Set 9 | tsabong\n",
      "Processing Record 20 of Set 9 | itupiranga\n",
      "Processing Record 21 of Set 9 | san jose iturbide\n",
      "Processing Record 22 of Set 9 | iralaya\n",
      "Processing Record 23 of Set 9 | lukulu\n",
      "Processing Record 24 of Set 9 | hasaki\n",
      "Processing Record 25 of Set 9 | rodrigues alves\n",
      "Processing Record 26 of Set 9 | panguna\n",
      "Processing Record 27 of Set 9 | baturaja\n",
      "Processing Record 28 of Set 9 | port shepstone\n",
      "Processing Record 29 of Set 9 | guisa\n",
      "Processing Record 30 of Set 9 | kentau\n",
      "Processing Record 31 of Set 9 | port keats\n",
      "Processing Record 32 of Set 9 | narsaq\n",
      "Processing Record 33 of Set 9 | bani\n",
      "Processing Record 34 of Set 9 | banjarmasin\n",
      "Processing Record 35 of Set 9 | zavitinsk\n",
      "Processing Record 36 of Set 9 | caravelas\n",
      "Processing Record 37 of Set 9 | abilene\n",
      "Processing Record 38 of Set 9 | lodja\n",
      "Processing Record 39 of Set 9 | piacabucu\n",
      "Processing Record 40 of Set 9 | conakry\n",
      "Processing Record 41 of Set 9 | sabha\n",
      "City not found. Skipping...\n",
      "Processing Record 42 of Set 9 | xuchang\n",
      "City not found. Skipping...\n",
      "City not found. Skipping...\n",
      "Processing Record 43 of Set 9 | praia\n",
      "Processing Record 44 of Set 9 | balayong\n",
      "Processing Record 45 of Set 9 | ishigaki\n",
      "Processing Record 46 of Set 9 | ulaangom\n",
      "Processing Record 47 of Set 9 | beira\n",
      "City not found. Skipping...\n",
      "Processing Record 48 of Set 9 | santa rosalia\n",
      "Processing Record 49 of Set 9 | phanom thuan\n",
      "Processing Record 1 of Set 10 | bom jesus\n",
      "Processing Record 2 of Set 10 | gimli\n",
      "Processing Record 3 of Set 10 | margate\n",
      "Processing Record 4 of Set 10 | troyes\n",
      "City not found. Skipping...\n",
      "Processing Record 5 of Set 10 | sechura\n",
      "City not found. Skipping...\n",
      "Processing Record 6 of Set 10 | deming\n",
      "Processing Record 7 of Set 10 | balkhash\n",
      "Processing Record 8 of Set 10 | hemsedal\n",
      "City not found. Skipping...\n",
      "Processing Record 9 of Set 10 | kandrian\n",
      "Processing Record 10 of Set 10 | abaetetuba\n",
      "Processing Record 11 of Set 10 | oranjestad\n",
      "Processing Record 12 of Set 10 | caconda\n",
      "Processing Record 13 of Set 10 | mpanda\n",
      "City not found. Skipping...\n",
      "City not found. Skipping...\n",
      "Processing Record 14 of Set 10 | madras\n",
      "City not found. Skipping...\n",
      "Processing Record 15 of Set 10 | zhigansk\n",
      "Processing Record 16 of Set 10 | svetlaya\n",
      "Processing Record 17 of Set 10 | sabang\n",
      "Processing Record 18 of Set 10 | maragogi\n",
      "Processing Record 19 of Set 10 | golub-dobrzyn\n",
      "Processing Record 20 of Set 10 | taoudenni\n",
      "Processing Record 21 of Set 10 | zeya\n",
      "Processing Record 22 of Set 10 | tessalit\n",
      "Processing Record 23 of Set 10 | georgiyevka\n",
      "Processing Record 24 of Set 10 | grand river south east\n",
      "Processing Record 25 of Set 10 | kurilsk\n",
      "Processing Record 26 of Set 10 | santa fe\n",
      "City not found. Skipping...\n",
      "City not found. Skipping...\n",
      "Processing Record 27 of Set 10 | rabaul\n",
      "Processing Record 28 of Set 10 | haimen\n",
      "Processing Record 29 of Set 10 | porto novo\n",
      "Processing Record 30 of Set 10 | viloco\n",
      "Processing Record 31 of Set 10 | sawtell\n",
      "Processing Record 32 of Set 10 | ajaccio\n",
      "Processing Record 33 of Set 10 | zlobin\n",
      "Processing Record 34 of Set 10 | pundaguitan\n",
      "Processing Record 35 of Set 10 | teguise\n",
      "Processing Record 36 of Set 10 | santiago del estero\n",
      "Processing Record 37 of Set 10 | mogadishu\n",
      "Processing Record 38 of Set 10 | faya\n",
      "Processing Record 39 of Set 10 | port hueneme\n",
      "Processing Record 40 of Set 10 | gap\n",
      "Processing Record 41 of Set 10 | avera\n",
      "Processing Record 42 of Set 10 | liwale\n",
      "Processing Record 43 of Set 10 | mazyr\n",
      "Processing Record 44 of Set 10 | kishi\n",
      "Processing Record 45 of Set 10 | khuzhir\n",
      "Processing Record 46 of Set 10 | bealanana\n",
      "Processing Record 47 of Set 10 | filingue\n",
      "Processing Record 48 of Set 10 | coshocton\n",
      "Processing Record 49 of Set 10 | pozo colorado\n",
      "Processing Record 1 of Set 11 | kavaratti\n",
      "City not found. Skipping...\n",
      "Processing Record 2 of Set 11 | goure\n",
      "Processing Record 3 of Set 11 | novonikolayevskiy\n",
      "City not found. Skipping...\n",
      "Processing Record 4 of Set 11 | bac lieu\n",
      "City not found. Skipping...\n",
      "Processing Record 5 of Set 11 | ayagoz\n",
      "City not found. Skipping...\n",
      "City not found. Skipping...\n",
      "Processing Record 6 of Set 11 | salme\n",
      "Processing Record 7 of Set 11 | bhinga\n",
      "Processing Record 8 of Set 11 | khandyga\n",
      "Processing Record 9 of Set 11 | tecoanapa\n",
      "City not found. Skipping...\n",
      "Processing Record 10 of Set 11 | sistranda\n",
      "Processing Record 11 of Set 11 | vila velha\n",
      "Processing Record 12 of Set 11 | noumea\n",
      "Processing Record 13 of Set 11 | rawson\n",
      "Processing Record 14 of Set 11 | beruwala\n",
      "Processing Record 15 of Set 11 | mandera\n",
      "Processing Record 16 of Set 11 | onega\n",
      "City not found. Skipping...\n",
      "City not found. Skipping...\n",
      "Processing Record 17 of Set 11 | carbonia\n",
      "Processing Record 18 of Set 11 | lafia\n",
      "Processing Record 19 of Set 11 | antalaha\n",
      "City not found. Skipping...\n",
      "Processing Record 20 of Set 11 | humaita\n",
      "Processing Record 21 of Set 11 | sorland\n",
      "Processing Record 22 of Set 11 | arroyo\n",
      "City not found. Skipping...\n",
      "Processing Record 23 of Set 11 | conde\n",
      "Processing Record 24 of Set 11 | neiafu\n",
      "Processing Record 25 of Set 11 | yokadouma\n",
      "Processing Record 26 of Set 11 | rehnan\n",
      "Processing Record 27 of Set 11 | nueva guinea\n",
      "Processing Record 28 of Set 11 | cachoeira\n",
      "Processing Record 29 of Set 11 | kovdor\n",
      "Processing Record 30 of Set 11 | zima\n",
      "Processing Record 31 of Set 11 | pangani\n",
      "Processing Record 32 of Set 11 | karaton\n",
      "Processing Record 33 of Set 11 | tsalenjikha\n",
      "Processing Record 34 of Set 11 | gorontalo\n",
      "Processing Record 35 of Set 11 | bethanien\n",
      "Processing Record 36 of Set 11 | tibati\n",
      "Processing Record 37 of Set 11 | pechenga\n",
      "Processing Record 38 of Set 11 | martapura\n",
      "Processing Record 39 of Set 11 | san carlos de bariloche\n",
      "Processing Record 40 of Set 11 | marawi\n",
      "Processing Record 41 of Set 11 | kapuvar\n",
      "------------------------------\n",
      "Data Retrieval Complete\n",
      "------------------------------\n"
     ]
    }
   ],
   "source": [
    "# set lists for the dataframe\n",
    "city_two = []\n",
    "cloudinesses = []\n",
    "dates = []\n",
    "humidities = []\n",
    "lats = []\n",
    "lngs = []\n",
    "max_temps = []\n",
    "wind_speeds = []\n",
    "countries = []\n",
    "\n",
    "# set initial count quantities for organization\n",
    "count_one = 0\n",
    "set_one = 1\n",
    "\n",
    "# loops for creating dataframe columns\n",
    "for city in cities:\n",
    "    try:\n",
    "        response = requests.get(query_url + city.replace(\" \",\"&\")).json()\n",
    "        cloudinesses.append(response['clouds']['all'])\n",
    "        countries.append(response['sys']['country'])\n",
    "        dates.append(response['dt'])\n",
    "        humidities.append(response['main']['humidity'])\n",
    "        lats.append(response['coord']['lat'])\n",
    "        lngs.append(response['coord']['lon'])\n",
    "        max_temps.append(response['main']['temp_max'])\n",
    "        wind_speeds.append(response['wind']['speed'])\n",
    "        if count_one > 48:\n",
    "            count_one = 1\n",
    "            set_one += 1\n",
    "            city_two.append(city)\n",
    "        else:\n",
    "            count_one += 1\n",
    "            city_two.append(city)\n",
    "        print(f\"Processing Record {count_one} of Set {set_one} | {city}\")\n",
    "    except Exception:\n",
    "        print(\"City not found. Skipping...\")\n",
    "print(\"------------------------------\\nData Retrieval Complete\\n------------------------------\")"
   ]
  },
  {
   "cell_type": "markdown",
   "metadata": {},
   "source": [
    "### Convert Raw Data to DataFrame\n",
    "* Export the city data into a .csv.\n",
    "* Display the DataFrame"
   ]
  },
  {
   "cell_type": "code",
   "execution_count": 9,
   "metadata": {},
   "outputs": [],
   "source": [
    "# create a dictionary for establishing dataframe\n",
    "weather_dict = {\n",
    "    \"City\":city_two,\n",
    "    \"Cloudiness\":cloudinesses,\n",
    "    \"Country\":countries,\n",
    "    \"Date\":dates,\n",
    "    \"Humidity\":humidities,\n",
    "    \"Lat\":lats,\n",
    "    \"Lng\":lngs,\n",
    "    \"Max Temp\":max_temps,\n",
    "    \"Wind Speed\":wind_speeds\n",
    "}\n",
    "\n"
   ]
  },
  {
   "cell_type": "code",
   "execution_count": 10,
   "metadata": {
    "scrolled": true
   },
   "outputs": [
    {
     "data": {
      "text/html": [
       "<div>\n",
       "<style scoped>\n",
       "    .dataframe tbody tr th:only-of-type {\n",
       "        vertical-align: middle;\n",
       "    }\n",
       "\n",
       "    .dataframe tbody tr th {\n",
       "        vertical-align: top;\n",
       "    }\n",
       "\n",
       "    .dataframe thead th {\n",
       "        text-align: right;\n",
       "    }\n",
       "</style>\n",
       "<table border=\"1\" class=\"dataframe\">\n",
       "  <thead>\n",
       "    <tr style=\"text-align: right;\">\n",
       "      <th></th>\n",
       "      <th>City</th>\n",
       "      <th>Cloudiness</th>\n",
       "      <th>Country</th>\n",
       "      <th>Date</th>\n",
       "      <th>Humidity</th>\n",
       "      <th>Lat</th>\n",
       "      <th>Lng</th>\n",
       "      <th>Max Temp</th>\n",
       "      <th>Wind Speed</th>\n",
       "    </tr>\n",
       "  </thead>\n",
       "  <tbody>\n",
       "    <tr>\n",
       "      <th>0</th>\n",
       "      <td>chapais</td>\n",
       "      <td>90</td>\n",
       "      <td>CA</td>\n",
       "      <td>1569459446</td>\n",
       "      <td>87</td>\n",
       "      <td>49.78</td>\n",
       "      <td>-74.86</td>\n",
       "      <td>50.00</td>\n",
       "      <td>13.87</td>\n",
       "    </tr>\n",
       "    <tr>\n",
       "      <th>1</th>\n",
       "      <td>nelson bay</td>\n",
       "      <td>32</td>\n",
       "      <td>CA</td>\n",
       "      <td>1569459446</td>\n",
       "      <td>36</td>\n",
       "      <td>49.49</td>\n",
       "      <td>-117.29</td>\n",
       "      <td>57.19</td>\n",
       "      <td>3.42</td>\n",
       "    </tr>\n",
       "    <tr>\n",
       "      <th>2</th>\n",
       "      <td>hermanus</td>\n",
       "      <td>0</td>\n",
       "      <td>ZA</td>\n",
       "      <td>1569459446</td>\n",
       "      <td>68</td>\n",
       "      <td>-34.42</td>\n",
       "      <td>19.24</td>\n",
       "      <td>66.99</td>\n",
       "      <td>10.00</td>\n",
       "    </tr>\n",
       "    <tr>\n",
       "      <th>3</th>\n",
       "      <td>tsuyama</td>\n",
       "      <td>0</td>\n",
       "      <td>JP</td>\n",
       "      <td>1569459447</td>\n",
       "      <td>64</td>\n",
       "      <td>35.14</td>\n",
       "      <td>134.03</td>\n",
       "      <td>71.60</td>\n",
       "      <td>5.82</td>\n",
       "    </tr>\n",
       "    <tr>\n",
       "      <th>4</th>\n",
       "      <td>taywarah</td>\n",
       "      <td>0</td>\n",
       "      <td>AF</td>\n",
       "      <td>1569459447</td>\n",
       "      <td>22</td>\n",
       "      <td>33.35</td>\n",
       "      <td>64.42</td>\n",
       "      <td>53.82</td>\n",
       "      <td>6.38</td>\n",
       "    </tr>\n",
       "  </tbody>\n",
       "</table>\n",
       "</div>"
      ],
      "text/plain": [
       "         City  Cloudiness Country        Date  Humidity    Lat     Lng  \\\n",
       "0     chapais          90      CA  1569459446        87  49.78  -74.86   \n",
       "1  nelson bay          32      CA  1569459446        36  49.49 -117.29   \n",
       "2    hermanus           0      ZA  1569459446        68 -34.42   19.24   \n",
       "3     tsuyama           0      JP  1569459447        64  35.14  134.03   \n",
       "4    taywarah           0      AF  1569459447        22  33.35   64.42   \n",
       "\n",
       "   Max Temp  Wind Speed  \n",
       "0     50.00       13.87  \n",
       "1     57.19        3.42  \n",
       "2     66.99       10.00  \n",
       "3     71.60        5.82  \n",
       "4     53.82        6.38  "
      ]
     },
     "execution_count": 10,
     "metadata": {},
     "output_type": "execute_result"
    }
   ],
   "source": [
    "#Create dataframe\n",
    "weather_df = pd.DataFrame(weather_dict)\n",
    "#display head\n",
    "weather_df.head()"
   ]
  },
  {
   "cell_type": "code",
   "execution_count": 11,
   "metadata": {},
   "outputs": [
    {
     "data": {
      "text/plain": [
       "City          531\n",
       "Cloudiness    531\n",
       "Country       531\n",
       "Date          531\n",
       "Humidity      531\n",
       "Lat           531\n",
       "Lng           531\n",
       "Max Temp      531\n",
       "Wind Speed    531\n",
       "dtype: int64"
      ]
     },
     "execution_count": 11,
     "metadata": {},
     "output_type": "execute_result"
    }
   ],
   "source": [
    "# be sure there aren't any NaN values \n",
    "weather_df.count()\n"
   ]
  },
  {
   "cell_type": "code",
   "execution_count": 12,
   "metadata": {},
   "outputs": [],
   "source": [
    "#export to csv \n",
    "weather_df.to_csv(output_data_file)"
   ]
  },
  {
   "cell_type": "markdown",
   "metadata": {},
   "source": [
    "### Plotting the Data\n",
    "* Use proper labeling of the plots using plot titles (including date of analysis) and axes labels.\n",
    "* Save the plotted figures as .pngs."
   ]
  },
  {
   "cell_type": "markdown",
   "metadata": {},
   "source": [
    "#### Latitude vs. Temperature Plot"
   ]
  },
  {
   "cell_type": "code",
   "execution_count": 20,
   "metadata": {
    "scrolled": true
   },
   "outputs": [
    {
     "data": {
      "image/png": "[encoded data removed]",
      "text/plain": [
       "<Figure size 432x288 with 1 Axes>"
      ]
     },
     "metadata": {
      "needs_background": "light"
     },
     "output_type": "display_data"
    }
   ],
   "source": [
    "#Create Plot\n",
    "plt.scatter(weather_df['Lat'], weather_df['Max Temp'],facecolors ='blue')\n",
    "#Labels\n",
    "plt.title(\"City Latitude vs. Max Temperature (09/25/19)\")\n",
    "plt.xlabel(\"Latitude\")\n",
    "plt.ylabel(\"Max Temperature (F)\")\n",
    "plt.grid()\n",
    "\n",
    "#save plt as png\n",
    "plt.savefig(\"Figures/fig_latvtemp.png\")\n",
    "#show plot\n",
    "plt.show()"
   ]
  },
  {
   "cell_type": "markdown",
   "metadata": {},
   "source": [
    "#### Latitude vs. Humidity Plot"
   ]
  },
  {
   "cell_type": "code",
   "execution_count": 21,
   "metadata": {},
   "outputs": [
    {
     "data": {
      "image/png": "[encoded data removed]",
      "text/plain": [
       "<Figure size 432x288 with 1 Axes>"
      ]
     },
     "metadata": {
      "needs_background": "light"
     },
     "output_type": "display_data"
    }
   ],
   "source": [
    "#Create Plot\n",
    "plt.scatter(weather_df['Lat'], weather_df['Humidity'],facecolors ='blue')\n",
    "#Labels\n",
    "plt.title(\"City Latitude vs. Humidity (09/25/19)\")\n",
    "plt.xlabel(\"Latitude\")\n",
    "plt.ylabel(\"Humidity (%)\")\n",
    "plt.grid()\n",
    "\n",
    "#save plt as png\n",
    "plt.savefig(\"Figures/fig_latvhum.png\")\n",
    "#show plot\n",
    "plt.show()"
   ]
  },
  {
   "cell_type": "markdown",
   "metadata": {},
   "source": [
    "#### Latitude vs. Cloudiness Plot"
   ]
  },
  {
   "cell_type": "code",
   "execution_count": 22,
   "metadata": {},
   "outputs": [
    {
     "data": {
      "image/png": "[encoded data removed]",
      "text/plain": [
       "<Figure size 432x288 with 1 Axes>"
      ]
     },
     "metadata": {
      "needs_background": "light"
     },
     "output_type": "display_data"
    }
   ],
   "source": [
    "#Create Plot\n",
    "plt.scatter(weather_df['Lat'], weather_df['Cloudiness'],facecolors ='blue')\n",
    "#Labels\n",
    "plt.title(\"City Latitude vs. Cloudiness (09/25/19)\")\n",
    "plt.xlabel(\"Latitude\")\n",
    "plt.ylabel(\"Cloudiness (%)\")\n",
    "plt.grid()\n",
    "\n",
    "#save plt as png\n",
    "plt.savefig(\"Figures/latvcloud.png\")\n",
    "#show plot\n",
    "plt.show()"
   ]
  },
  {
   "cell_type": "markdown",
   "metadata": {},
   "source": [
    "#### Latitude vs. Wind Speed Plot"
   ]
  },
  {
   "cell_type": "code",
   "execution_count": 23,
   "metadata": {},
   "outputs": [
    {
     "data": {
      "image/png": "[encoded data removed]",
      "text/plain": [
       "<Figure size 432x288 with 1 Axes>"
      ]
     },
     "metadata": {
      "needs_background": "light"
     },
     "output_type": "display_data"
    }
   ],
   "source": [
    "#Create Plot\n",
    "plt.scatter(weather_df['Lat'], weather_df['Wind Speed'],facecolors ='blue')\n",
    "#Labels\n",
    "plt.title(\"City Latitude vs. Wind Speed (09/25/19)\")\n",
    "plt.xlabel(\"Latitude\")\n",
    "plt.ylabel(\"Wind Speed (mpg)\")\n",
    "plt.grid()\n",
    "\n",
    "#save plt as png\n",
    "plt.savefig(\"Figures/latvwind.png\")\n",
    "#show plot\n",
    "plt.show()"
   ]
  },
  {
   "cell_type": "markdown",
   "metadata": {},
   "source": [
    "## Linear Regression"
   ]
  },
  {
   "cell_type": "code",
   "execution_count": 108,
   "metadata": {},
   "outputs": [],
   "source": [
    "# OPTIONAL: Create a function to create Linear Regression plots\n"
   ]
  },
  {
   "cell_type": "code",
   "execution_count": 26,
   "metadata": {},
   "outputs": [
    {
     "data": {
      "text/html": [
       "<div>\n",
       "<style scoped>\n",
       "    .dataframe tbody tr th:only-of-type {\n",
       "        vertical-align: middle;\n",
       "    }\n",
       "\n",
       "    .dataframe tbody tr th {\n",
       "        vertical-align: top;\n",
       "    }\n",
       "\n",
       "    .dataframe thead th {\n",
       "        text-align: right;\n",
       "    }\n",
       "</style>\n",
       "<table border=\"1\" class=\"dataframe\">\n",
       "  <thead>\n",
       "    <tr style=\"text-align: right;\">\n",
       "      <th></th>\n",
       "      <th>City</th>\n",
       "      <th>Cloudiness</th>\n",
       "      <th>Country</th>\n",
       "      <th>Date</th>\n",
       "      <th>Humidity</th>\n",
       "      <th>Lat</th>\n",
       "      <th>Lng</th>\n",
       "      <th>Max Temp</th>\n",
       "      <th>Wind Speed</th>\n",
       "    </tr>\n",
       "  </thead>\n",
       "  <tbody>\n",
       "    <tr>\n",
       "      <th>0</th>\n",
       "      <td>chapais</td>\n",
       "      <td>90</td>\n",
       "      <td>CA</td>\n",
       "      <td>1569459446</td>\n",
       "      <td>87</td>\n",
       "      <td>49.78</td>\n",
       "      <td>-74.86</td>\n",
       "      <td>50.00</td>\n",
       "      <td>13.87</td>\n",
       "    </tr>\n",
       "    <tr>\n",
       "      <th>1</th>\n",
       "      <td>nelson bay</td>\n",
       "      <td>32</td>\n",
       "      <td>CA</td>\n",
       "      <td>1569459446</td>\n",
       "      <td>36</td>\n",
       "      <td>49.49</td>\n",
       "      <td>-117.29</td>\n",
       "      <td>57.19</td>\n",
       "      <td>3.42</td>\n",
       "    </tr>\n",
       "    <tr>\n",
       "      <th>3</th>\n",
       "      <td>tsuyama</td>\n",
       "      <td>0</td>\n",
       "      <td>JP</td>\n",
       "      <td>1569459447</td>\n",
       "      <td>64</td>\n",
       "      <td>35.14</td>\n",
       "      <td>134.03</td>\n",
       "      <td>71.60</td>\n",
       "      <td>5.82</td>\n",
       "    </tr>\n",
       "    <tr>\n",
       "      <th>4</th>\n",
       "      <td>taywarah</td>\n",
       "      <td>0</td>\n",
       "      <td>AF</td>\n",
       "      <td>1569459447</td>\n",
       "      <td>22</td>\n",
       "      <td>33.35</td>\n",
       "      <td>64.42</td>\n",
       "      <td>53.82</td>\n",
       "      <td>6.38</td>\n",
       "    </tr>\n",
       "    <tr>\n",
       "      <th>5</th>\n",
       "      <td>derzhavinsk</td>\n",
       "      <td>0</td>\n",
       "      <td>KZ</td>\n",
       "      <td>1569459448</td>\n",
       "      <td>62</td>\n",
       "      <td>51.10</td>\n",
       "      <td>66.31</td>\n",
       "      <td>38.42</td>\n",
       "      <td>3.62</td>\n",
       "    </tr>\n",
       "  </tbody>\n",
       "</table>\n",
       "</div>"
      ],
      "text/plain": [
       "          City  Cloudiness Country        Date  Humidity    Lat     Lng  \\\n",
       "0      chapais          90      CA  1569459446        87  49.78  -74.86   \n",
       "1   nelson bay          32      CA  1569459446        36  49.49 -117.29   \n",
       "3      tsuyama           0      JP  1569459447        64  35.14  134.03   \n",
       "4     taywarah           0      AF  1569459447        22  33.35   64.42   \n",
       "5  derzhavinsk           0      KZ  1569459448        62  51.10   66.31   \n",
       "\n",
       "   Max Temp  Wind Speed  \n",
       "0     50.00       13.87  \n",
       "1     57.19        3.42  \n",
       "3     71.60        5.82  \n",
       "4     53.82        6.38  \n",
       "5     38.42        3.62  "
      ]
     },
     "execution_count": 26,
     "metadata": {},
     "output_type": "execute_result"
    }
   ],
   "source": [
    "# Create Northern and Southern Hemisphere DataFrames\n",
    "northern_df = weather_df[weather_df['Lat'] > 0]\n",
    "northern_df.head()\n"
   ]
  },
  {
   "cell_type": "code",
   "execution_count": 27,
   "metadata": {},
   "outputs": [
    {
     "data": {
      "text/html": [
       "<div>\n",
       "<style scoped>\n",
       "    .dataframe tbody tr th:only-of-type {\n",
       "        vertical-align: middle;\n",
       "    }\n",
       "\n",
       "    .dataframe tbody tr th {\n",
       "        vertical-align: top;\n",
       "    }\n",
       "\n",
       "    .dataframe thead th {\n",
       "        text-align: right;\n",
       "    }\n",
       "</style>\n",
       "<table border=\"1\" class=\"dataframe\">\n",
       "  <thead>\n",
       "    <tr style=\"text-align: right;\">\n",
       "      <th></th>\n",
       "      <th>City</th>\n",
       "      <th>Cloudiness</th>\n",
       "      <th>Country</th>\n",
       "      <th>Date</th>\n",
       "      <th>Humidity</th>\n",
       "      <th>Lat</th>\n",
       "      <th>Lng</th>\n",
       "      <th>Max Temp</th>\n",
       "      <th>Wind Speed</th>\n",
       "    </tr>\n",
       "  </thead>\n",
       "  <tbody>\n",
       "    <tr>\n",
       "      <th>2</th>\n",
       "      <td>hermanus</td>\n",
       "      <td>0</td>\n",
       "      <td>ZA</td>\n",
       "      <td>1569459446</td>\n",
       "      <td>68</td>\n",
       "      <td>-34.42</td>\n",
       "      <td>19.24</td>\n",
       "      <td>66.99</td>\n",
       "      <td>10.00</td>\n",
       "    </tr>\n",
       "    <tr>\n",
       "      <th>7</th>\n",
       "      <td>esperance</td>\n",
       "      <td>98</td>\n",
       "      <td>AU</td>\n",
       "      <td>1569459449</td>\n",
       "      <td>77</td>\n",
       "      <td>-33.86</td>\n",
       "      <td>121.89</td>\n",
       "      <td>60.80</td>\n",
       "      <td>8.19</td>\n",
       "    </tr>\n",
       "    <tr>\n",
       "      <th>10</th>\n",
       "      <td>port elizabeth</td>\n",
       "      <td>85</td>\n",
       "      <td>CD</td>\n",
       "      <td>1569459450</td>\n",
       "      <td>55</td>\n",
       "      <td>-7.04</td>\n",
       "      <td>29.76</td>\n",
       "      <td>67.49</td>\n",
       "      <td>3.29</td>\n",
       "    </tr>\n",
       "    <tr>\n",
       "      <th>12</th>\n",
       "      <td>ushuaia</td>\n",
       "      <td>75</td>\n",
       "      <td>AR</td>\n",
       "      <td>1569459452</td>\n",
       "      <td>69</td>\n",
       "      <td>-54.81</td>\n",
       "      <td>-68.31</td>\n",
       "      <td>39.20</td>\n",
       "      <td>11.41</td>\n",
       "    </tr>\n",
       "    <tr>\n",
       "      <th>15</th>\n",
       "      <td>barrow</td>\n",
       "      <td>42</td>\n",
       "      <td>AR</td>\n",
       "      <td>1569459453</td>\n",
       "      <td>68</td>\n",
       "      <td>-38.31</td>\n",
       "      <td>-60.23</td>\n",
       "      <td>57.48</td>\n",
       "      <td>7.76</td>\n",
       "    </tr>\n",
       "  </tbody>\n",
       "</table>\n",
       "</div>"
      ],
      "text/plain": [
       "              City  Cloudiness Country        Date  Humidity    Lat     Lng  \\\n",
       "2         hermanus           0      ZA  1569459446        68 -34.42   19.24   \n",
       "7        esperance          98      AU  1569459449        77 -33.86  121.89   \n",
       "10  port elizabeth          85      CD  1569459450        55  -7.04   29.76   \n",
       "12         ushuaia          75      AR  1569459452        69 -54.81  -68.31   \n",
       "15          barrow          42      AR  1569459453        68 -38.31  -60.23   \n",
       "\n",
       "    Max Temp  Wind Speed  \n",
       "2      66.99       10.00  \n",
       "7      60.80        8.19  \n",
       "10     67.49        3.29  \n",
       "12     39.20       11.41  \n",
       "15     57.48        7.76  "
      ]
     },
     "execution_count": 27,
     "metadata": {},
     "output_type": "execute_result"
    }
   ],
   "source": [
    "southern_df = weather_df[weather_df['Lat'] < 0]\n",
    "southern_df.head()"
   ]
  },
  {
   "cell_type": "markdown",
   "metadata": {},
   "source": [
    "####  Northern Hemisphere - Max Temp vs. Latitude Linear Regression"
   ]
  },
  {
   "cell_type": "code",
   "execution_count": 31,
   "metadata": {},
   "outputs": [
    {
     "name": "stdout",
     "output_type": "stream",
     "text": [
      "The r-squared is: -0.818449433320969\n"
     ]
    },
    {
     "data": {
      "image/png": "[encoded data removed]",
      "text/plain": [
       "<Figure size 432x288 with 1 Axes>"
      ]
     },
     "metadata": {
      "needs_background": "light"
     },
     "output_type": "display_data"
    }
   ],
   "source": [
    "x_values = northern_df['Lat']\n",
    "y_values = northern_df['Max Temp']\n",
    "(slope, intercept, rvalue, pvalue, stderr) = linregress(x_values, y_values)\n",
    "regress_values = x_values * slope + intercept\n",
    "line_eq = \"y = \" + str(round(slope,2)) + \"x + \" + str(round(intercept,2))\n",
    "plt.scatter(x_values,y_values)\n",
    "plt.plot(x_values,regress_values,\"r-\")\n",
    "plt.annotate(line_eq,(10,20),fontsize=15,color=\"red\")\n",
    "plt.xlabel('Latitude')\n",
    "plt.ylabel('Max Temperature (F)')\n",
    "print(f\"The r-squared is: {rvalue}\")\n",
    "plt.show()"
   ]
  },
  {
   "cell_type": "markdown",
   "metadata": {},
   "source": [
    "####  Southern Hemisphere - Max Temp vs. Latitude Linear Regression"
   ]
  },
  {
   "cell_type": "code",
   "execution_count": 32,
   "metadata": {},
   "outputs": [
    {
     "name": "stdout",
     "output_type": "stream",
     "text": [
      "The r-squared is: 0.6956782741996984\n"
     ]
    },
    {
     "data": {
      "image/png": "[encoded data removed]",
      "text/plain": [
       "<Figure size 432x288 with 1 Axes>"
      ]
     },
     "metadata": {
      "needs_background": "light"
     },
     "output_type": "display_data"
    }
   ],
   "source": [
    "x_values = southern_df['Lat']\n",
    "y_values = southern_df['Max Temp']\n",
    "(slope, intercept, rvalue, pvalue, stderr) = linregress(x_values, y_values)\n",
    "regress_values = x_values * slope + intercept\n",
    "line_eq = \"y = \" + str(round(slope,2)) + \"x + \" + str(round(intercept,2))\n",
    "plt.scatter(x_values,y_values)\n",
    "plt.plot(x_values,regress_values,\"r-\")\n",
    "plt.annotate(line_eq,(-30,40),fontsize=15,color=\"red\")\n",
    "plt.xlabel('Latitude')\n",
    "plt.ylabel('Max Temperature (F)')\n",
    "print(f\"The r-squared is: {rvalue}\")\n",
    "plt.show()"
   ]
  },
  {
   "cell_type": "markdown",
   "metadata": {},
   "source": [
    "####  Northern Hemisphere - Humidity (%) vs. Latitude Linear Regression"
   ]
  },
  {
   "cell_type": "code",
   "execution_count": 33,
   "metadata": {},
   "outputs": [
    {
     "name": "stdout",
     "output_type": "stream",
     "text": [
      "The r-squared is: 0.10784281653214327\n"
     ]
    },
    {
     "data": {
      "image/png": "[encoded data removed]",
      "text/plain": [
       "<Figure size 432x288 with 1 Axes>"
      ]
     },
     "metadata": {
      "needs_background": "light"
     },
     "output_type": "display_data"
    }
   ],
   "source": [
    "x_values = northern_df['Lat']\n",
    "y_values = northern_df['Humidity']\n",
    "(slope, intercept, rvalue, pvalue, stderr) = linregress(x_values, y_values)\n",
    "regress_values = x_values * slope + intercept\n",
    "line_eq = \"y = \" + str(round(slope,2)) + \"x + \" + str(round(intercept,2))\n",
    "plt.scatter(x_values,y_values)\n",
    "plt.plot(x_values,regress_values,\"r-\")\n",
    "plt.annotate(line_eq,(40,10),fontsize=15,color=\"red\")\n",
    "plt.xlabel('Latitude')\n",
    "plt.ylabel('Humidity')\n",
    "print(f\"The r-squared is: {rvalue}\")\n",
    "plt.show()"
   ]
  },
  {
   "cell_type": "markdown",
   "metadata": {},
   "source": [
    "####  Southern Hemisphere - Humidity (%) vs. Latitude Linear Regression"
   ]
  },
  {
   "cell_type": "code",
   "execution_count": 36,
   "metadata": {},
   "outputs": [
    {
     "name": "stdout",
     "output_type": "stream",
     "text": [
      "The r-squared is: 0.2540547498005277\n"
     ]
    },
    {
     "data": {
      "image/png": "[encoded data removed]",
      "text/plain": [
       "<Figure size 432x288 with 1 Axes>"
      ]
     },
     "metadata": {
      "needs_background": "light"
     },
     "output_type": "display_data"
    }
   ],
   "source": [
    "x_values = southern_df['Lat']\n",
    "y_values = southern_df['Humidity']\n",
    "(slope, intercept, rvalue, pvalue, stderr) = linregress(x_values, y_values)\n",
    "regress_values = x_values * slope + intercept\n",
    "line_eq = \"y = \" + str(round(slope,2)) + \"x + \" + str(round(intercept,2))\n",
    "plt.scatter(x_values,y_values)\n",
    "plt.plot(x_values,regress_values,\"r-\")\n",
    "plt.annotate(line_eq,(-50, 20),fontsize=15,color=\"red\")\n",
    "plt.xlabel('Latitude')\n",
    "plt.ylabel('Humidity')\n",
    "print(f\"The r-squared is: {rvalue}\")\n",
    "plt.show()"
   ]
  },
  {
   "cell_type": "markdown",
   "metadata": {},
   "source": [
    "####  Northern Hemisphere - Cloudiness (%) vs. Latitude Linear Regression"
   ]
  },
  {
   "cell_type": "code",
   "execution_count": 37,
   "metadata": {},
   "outputs": [
    {
     "name": "stdout",
     "output_type": "stream",
     "text": [
      "The r-squared is: 0.08111264778972029\n"
     ]
    },
    {
     "data": {
      "image/png": "[encoded data removed]",
      "text/plain": [
       "<Figure size 432x288 with 1 Axes>"
      ]
     },
     "metadata": {
      "needs_background": "light"
     },
     "output_type": "display_data"
    }
   ],
   "source": [
    "x_values = northern_df['Lat']\n",
    "y_values = northern_df['Cloudiness']\n",
    "(slope, intercept, rvalue, pvalue, stderr) = linregress(x_values, y_values)\n",
    "regress_values = x_values * slope + intercept\n",
    "line_eq = \"y = \" + str(round(slope,2)) + \"x + \" + str(round(intercept,2))\n",
    "plt.scatter(x_values,y_values)\n",
    "plt.plot(x_values,regress_values,\"r-\")\n",
    "plt.annotate(line_eq,(40,20),fontsize=15,color=\"red\")\n",
    "plt.xlabel('Latitude')\n",
    "plt.ylabel('Cloudiness')\n",
    "print(f\"The r-squared is: {rvalue}\")\n",
    "plt.show()"
   ]
  },
  {
   "cell_type": "markdown",
   "metadata": {},
   "source": [
    "####  Southern Hemisphere - Cloudiness (%) vs. Latitude Linear Regression"
   ]
  },
  {
   "cell_type": "code",
   "execution_count": 39,
   "metadata": {},
   "outputs": [
    {
     "name": "stdout",
     "output_type": "stream",
     "text": [
      "The r-squared is: 0.25747699802603047\n"
     ]
    },
    {
     "data": {
      "image/png": "[encoded data removed]",
      "text/plain": [
       "<Figure size 432x288 with 1 Axes>"
      ]
     },
     "metadata": {
      "needs_background": "light"
     },
     "output_type": "display_data"
    }
   ],
   "source": [
    "x_values = southern_df['Lat']\n",
    "y_values = southern_df['Cloudiness']\n",
    "(slope, intercept, rvalue, pvalue, stderr) = linregress(x_values, y_values)\n",
    "regress_values = x_values * slope + intercept\n",
    "line_eq = \"y = \" + str(round(slope,2)) + \"x + \" + str(round(intercept,2))\n",
    "plt.scatter(x_values,y_values)\n",
    "plt.plot(x_values,regress_values,\"r-\")\n",
    "plt.annotate(line_eq,(-30,20),fontsize=15,color=\"red\")\n",
    "plt.xlabel('Latitude')\n",
    "plt.ylabel('Cloudiness')\n",
    "print(f\"The r-squared is: {rvalue}\")\n",
    "plt.show()"
   ]
  },
  {
   "cell_type": "markdown",
   "metadata": {},
   "source": [
    "####  Northern Hemisphere - Wind Speed (mph) vs. Latitude Linear Regression"
   ]
  },
  {
   "cell_type": "code",
   "execution_count": 40,
   "metadata": {},
   "outputs": [
    {
     "name": "stdout",
     "output_type": "stream",
     "text": [
      "The r-squared is: 0.12936853797389145\n"
     ]
    },
    {
     "data": {
      "image/png": "[encoded data removed]",
      "text/plain": [
       "<Figure size 432x288 with 1 Axes>"
      ]
     },
     "metadata": {
      "needs_background": "light"
     },
     "output_type": "display_data"
    }
   ],
   "source": [
    "x_values = northern_df['Lat']\n",
    "y_values = northern_df['Wind Speed']\n",
    "(slope, intercept, rvalue, pvalue, stderr) = linregress(x_values, y_values)\n",
    "regress_values = x_values * slope + intercept\n",
    "line_eq = \"y = \" + str(round(slope,2)) + \"x + \" + str(round(intercept,2))\n",
    "plt.scatter(x_values,y_values)\n",
    "plt.plot(x_values,regress_values,\"r-\")\n",
    "plt.annotate(line_eq,(40,25),fontsize=15,color=\"red\")\n",
    "plt.xlabel('Latitude')\n",
    "plt.ylabel('Wind Speed')\n",
    "print(f\"The r-squared is: {rvalue}\")\n",
    "plt.show()"
   ]
  },
  {
   "cell_type": "markdown",
   "metadata": {},
   "source": [
    "####  Southern Hemisphere - Wind Speed (mph) vs. Latitude Linear Regression"
   ]
  },
  {
   "cell_type": "code",
   "execution_count": 44,
   "metadata": {},
   "outputs": [
    {
     "name": "stdout",
     "output_type": "stream",
     "text": [
      "The r-squared is: -0.3780404326122625\n"
     ]
    },
    {
     "data": {
      "image/png": "[encoded data removed]",
      "text/plain": [
       "<Figure size 432x288 with 1 Axes>"
      ]
     },
     "metadata": {
      "needs_background": "light"
     },
     "output_type": "display_data"
    }
   ],
   "source": [
    "x_values = southern_df['Lat']\n",
    "y_values = southern_df['Wind Speed']\n",
    "(slope, intercept, rvalue, pvalue, stderr) = linregress(x_values, y_values)\n",
    "regress_values = x_values * slope + intercept\n",
    "line_eq = \"y = \" + str(round(slope,2)) + \"x + \" + str(round(intercept,2))\n",
    "plt.scatter(x_values,y_values)\n",
    "plt.plot(x_values,regress_values,\"r-\")\n",
    "plt.annotate(line_eq,(-30,32),fontsize=15,color=\"red\")\n",
    "plt.xlabel('Latitude')\n",
    "plt.ylabel('Wind Speed')\n",
    "print(f\"The r-squared is: {rvalue}\")\n",
    "plt.show()"
   ]
  },
  {
   "cell_type": "code",
   "execution_count": null,
   "metadata": {},
   "outputs": [],
   "source": []
  }
 ],
 "metadata": {
  "anaconda-cloud": {},
  "kernel_info": {
   "name": "python3"
  },
  "kernelspec": {
   "display_name": "Python 3",
   "language": "python",
   "name": "python3"
  },
  "language_info": {
   "codemirror_mode": {
    "name": "ipython",
    "version": 3
   },
   "file_extension": ".py",
   "mimetype": "text/x-python",
   "name": "python",
   "nbconvert_exporter": "python",
   "pygments_lexer": "ipython3",
   "version": "3.7.3"
  },
  "latex_envs": {
   "LaTeX_envs_menu_present": true,
   "autoclose": false,
   "autocomplete": true,
   "bibliofile": "biblio.bib",
   "cite_by": "apalike",
   "current_citInitial": 1,
   "eqLabelWithNumbers": true,
   "eqNumInitial": 1,
   "hotkeys": {
    "equation": "Ctrl-E",
    "itemize": "Ctrl-I"
   },
   "labels_anchors": false,
   "latex_user_defs": false,
   "report_style_numbering": false,
   "user_envs_cfg": false
  },
  "nteract": {
   "version": "0.12.3"
  }
 },
 "nbformat": 4,
 "nbformat_minor": 2
}
